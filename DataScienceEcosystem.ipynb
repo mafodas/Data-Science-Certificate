{
 "cells": [
  {
   "cell_type": "markdown",
   "id": "6e01348d-ed1c-4945-b491-c1ccc58a01dd",
   "metadata": {},
   "source": [
    "# Data Science Tools and Ecosystem "
   ]
  },
  {
   "cell_type": "markdown",
   "id": "a3afef18-6295-40e0-99e7-847fca4658b2",
   "metadata": {},
   "source": [
    "In this notebook, Data Science Tools and Ecosystem are summarized."
   ]
  },
  {
   "cell_type": "markdown",
   "id": "bede3808-99cb-422a-b605-5bc7ad8fcd4b",
   "metadata": {},
   "source": [
    "**Objectives:**\n",
    "- List popular languages used in Data Science\n",
    "- List popular library used in Data Science\n",
    "- List some of the data science tools\n",
    "\n"
   ]
  },
  {
   "cell_type": "markdown",
   "id": "d2f763a4-72a9-4182-8675-51201b4089d7",
   "metadata": {},
   "source": [
    "Some of the popular languages that Data Scientists use are:\n",
    "1. R\n",
    "2. Python\n",
    "3. SQL\n",
    "4. Scala\n",
    "5. SAS"
   ]
  },
  {
   "cell_type": "markdown",
   "id": "87ac16ec-295a-4c42-886b-b1adb2c4fdc4",
   "metadata": {},
   "source": [
    "Some of the commonly used libraries used by Data Scientists include:\n",
    "1. NumPy\n",
    "2. Pandas\n",
    "3. Pytorch\n",
    "4. SciPy\n",
    "5. TensorFlow"
   ]
  },
  {
   "cell_type": "markdown",
   "id": "e002ef77-39ec-499f-8619-460402b4a1c8",
   "metadata": {},
   "source": [
    "| Data Science Tools |\n",
    "|--------------------|\n",
    "| R Studio           |\n",
    "| Jupyter            |\n",
    "| Anaconda Navigator |       "
   ]
  },
  {
   "cell_type": "markdown",
   "id": "28b1c539-2fd2-48cc-a4ea-13f3ef5a6501",
   "metadata": {},
   "source": [
    "### Below are a few examples of evaluating arithmetic expressions in Python"
   ]
  },
  {
   "cell_type": "code",
   "execution_count": 1,
   "id": "6bc36f57-5d2b-4599-a3e7-e457f25b1d67",
   "metadata": {},
   "outputs": [
    {
     "data": {
      "text/plain": [
       "17"
      ]
     },
     "execution_count": 1,
     "metadata": {},
     "output_type": "execute_result"
    }
   ],
   "source": [
    "#This a simple arithmetic expression to mutiply then add integers\n",
    "(3*4)+5"
   ]
  },
  {
   "cell_type": "code",
   "execution_count": 19,
   "id": "1f24af5f-1a33-4e71-8e9f-24e1c328a779",
   "metadata": {},
   "outputs": [
    {
     "name": "stdout",
     "output_type": "stream",
     "text": [
      "200 minutes is equal to  3.3333333333333335 hours\n"
     ]
    }
   ],
   "source": [
    "#This will convert 200 minutes to hours by diving by 60\n",
    "minute = 200\n",
    "hours = minute/60\n",
    "print( minute, 'minutes is equal to ', hours, 'hours')\n",
    "\n"
   ]
  },
  {
   "cell_type": "markdown",
   "id": "8b180bb7-6719-4d93-a22b-6c3ba108dacc",
   "metadata": {},
   "source": [
    "## Author\n",
    "Mohamed Afoda-Sebou"
   ]
  },
  {
   "cell_type": "markdown",
   "id": "d6f76067-e11b-45bc-b2b5-15fbaa0ba23d",
   "metadata": {},
   "source": []
  }
 ],
 "metadata": {
  "kernelspec": {
   "display_name": "Python 3 (ipykernel)",
   "language": "python",
   "name": "python3"
  },
  "language_info": {
   "codemirror_mode": {
    "name": "ipython",
    "version": 3
   },
   "file_extension": ".py",
   "mimetype": "text/x-python",
   "name": "python",
   "nbconvert_exporter": "python",
   "pygments_lexer": "ipython3",
   "version": "3.12.7"
  }
 },
 "nbformat": 4,
 "nbformat_minor": 5
}
